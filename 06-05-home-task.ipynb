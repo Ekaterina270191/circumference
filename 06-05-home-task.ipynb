{
 "cells": [
  {
   "cell_type": "markdown",
   "metadata": {},
   "source": [
    "# 🎓 06-05. Модули - домашнее задание"
   ]
  },
  {
   "cell_type": "markdown",
   "metadata": {},
   "source": [
    "> **Текущий файл:** *`06-05-home-task.ipynb`*  \n"
   ]
  },
  {
   "cell_type": "markdown",
   "metadata": {},
   "source": [
    "### 💡 Задачи:<a name=\"content\"></a>\n",
    "\n",
    "&nbsp; &nbsp; &nbsp; **✔️ 1.** [**Задача 1**](#task1)  \n",
    "&nbsp; &nbsp; &nbsp; **✔️ 2.** [**Задача 2**](#task2)  \n"
   ]
  },
  {
   "cell_type": "markdown",
   "metadata": {},
   "source": [
    "&nbsp;"
   ]
  },
  {
   "cell_type": "markdown",
   "metadata": {},
   "source": [
    "<a name=\"task1\"></a>"
   ]
  },
  {
   "cell_type": "markdown",
   "metadata": {},
   "source": [
    "# Задача 1"
   ]
  },
  {
   "cell_type": "markdown",
   "metadata": {
    "id": "8sMcqqlmmq3D"
   },
   "source": [
    "> Создайте библиотеку `circumference`, состоящую из трех под-библиотек: `triangle`, `circle`, `square`.  \n",
    "> В каждой под-библиотекe создайте файл `code.py`, содержащий функции:  \n",
    "  \n",
    "> `circle`: функции `circle_perimeter()` – вычисляет длину окружности, `circle_area()` – вычисляет площадь окружности. Также создайте переменную `default_radius = 10`, которая будет скрыта при импорте модуля. Переменная нужна если пользователь не введет свой. Функции принимают на вход только радиус.  \n",
    "  \n",
    "> `triangle`: функции `triangle_perimeter()` – вычисляет периметр треугольника, `triangle_area()` – вычисляет площадь фигуры. Также создайте переменные (длины сторон треугольника): `a = 10, b = 10, c = 10`, которые также не будут видны при импорте. На вход функциям передается длина трех сторон (если пользователь ничего не введет, то используются значения по умолчанию).  \n",
    "  \n",
    "> `square`: функции `square_perimeter()` – вычисляет периметр квадрата, `square_area()` – вычисляет площадь фигуры. Также создайте переменную `a = 10`, которая не доступна при импорте и принимается функциями, если пользователь не предоставил свои размеры стороны квадрата.  \n",
    "  \n",
    "> Итоговая задача – позволить пользователю, загрузившему вашу библиотеку, напрямую импортировать все функции из под-библиотек. Например, пользователь может написать так: `from circumference import circle_perimeter`.  \n",
    "  \n",
    "> Начните писать библиотеку на GitHub. Когда она будет готова, примените команду `git clone` и разместите её на локальной машине.  \n",
    "  \n",
    "> Создайте по одному примеру вычисления, когда пользователь вводит с клавиатуры данные для расчета. Сделайте подсказки для пользователя.  \n",
    "  \n",
    "> `conda install -c anaconda git` - установите, при необходимости библиотеку `git`.  \n"
   ]
  },
  {
   "cell_type": "code",
   "execution_count": 1,
   "metadata": {},
   "outputs": [],
   "source": [
    "# Файловая структура проекта:\n",
    "\n",
    "\"\"\"\n",
    "\n",
    "circumference\n",
    "  | \n",
    "  |_circle\n",
    "        |_ __init__.py\n",
    "        |_ code.py\n",
    "  | \n",
    "  |_square\n",
    "        |_ __init__.py\n",
    "        |_ code.py\n",
    "  |\n",
    "  |_triangle\n",
    "        |_ __init__.py\n",
    "        |_ code.py\n",
    "  |\n",
    "  |_ __init__.py\n",
    "\n",
    "\"\"\"\n"
   ]
  },
  {
   "cell_type": "code",
   "execution_count": 18,
   "metadata": {},
   "outputs": [
    {
     "name": "stdout",
     "output_type": "stream",
     "text": [
      "Collecting package metadata (current_repodata.json): ...working... done\n",
      "Solving environment: ...working... done\n",
      "\n",
      "# All requested packages already installed.\n",
      "\n"
     ]
    }
   ],
   "source": [
    "!conda install -c anaconda git -y"
   ]
  },
  {
   "cell_type": "code",
   "execution_count": 19,
   "metadata": {},
   "outputs": [
    {
     "name": "stderr",
     "output_type": "stream",
     "text": [
      "fatal: destination path 'circumference' already exists and is not an empty directory.\n"
     ]
    }
   ],
   "source": [
    "!git clone https://github.com/Ekaterina270191/circumference"
   ]
  },
  {
   "cell_type": "code",
   "execution_count": 20,
   "metadata": {},
   "outputs": [],
   "source": [
    "# Решение\n",
    "\n",
    "# вызываем основную библиотеку circumference импортируя под-библиотек: circle_perimeter, circle_area\n",
    "from circumference import circle_perimeter, circle_area, triangle_perimeter, triangle_area, square_perimeter, square_perimeter"
   ]
  },
  {
   "cell_type": "code",
   "execution_count": 23,
   "metadata": {},
   "outputs": [],
   "source": [
    "def func_circle():\n",
    "\n",
    "    while True:\n",
    "        print(\"\"\"Варианты: \n",
    "            1 - вычисляет длину окружности\n",
    "            2 - вычисляет площадь окружности \n",
    "            3 - выход в меню\"\"\")\n",
    "\n",
    "        n = input('Выберите один из вариантов 1, 2, 3: ')\n",
    "        print()\n",
    "\n",
    "        if n == \"1\":\n",
    "            number = int(input('Введите число, иначе по умолчанию число равно 10: '))\n",
    "            \n",
    "            if number != 0:\n",
    "                return f'Длина окружности числа {number} составляет: {circle_perimeter(number)}'\n",
    "            else:\n",
    "                return f'Длина окружности числа {10} составляет: {circle_perimeter()}'\n",
    "            print()\n",
    "\n",
    "        elif n == \"2\":\n",
    "            number = int(input('Введите число, иначе по умолчанию число равно 10: '))\n",
    "            \n",
    "            if number != 0:\n",
    "                return f'Площадь окружности числа {number} состовляет: {circle_area(number)}'\n",
    "            else:\n",
    "                return f'Площадь окружности числа {10} составляет: {circle_area()}'\n",
    "            print()\n",
    "            \n",
    "        elif n == '3':\n",
    "            return ''\n",
    "            \n",
    "        else:\n",
    "            print('Такого варианта нет, попробуйти еще раз!')\n",
    "            print()\n",
    "            \n",
    "# print(func_circle())"
   ]
  },
  {
   "cell_type": "code",
   "execution_count": 24,
   "metadata": {
    "scrolled": true
   },
   "outputs": [],
   "source": [
    "def func_square():\n",
    "    \n",
    "    while True:\n",
    "        print(\"\"\"Варианты: \n",
    "            1 - вычисляет периметр квадрата\n",
    "            2 - вычисляет площадь фигуры \n",
    "            3 - выход в меню\"\"\")\n",
    "\n",
    "        n = input('Выберите один из вариантов 1, 2, 3: ')\n",
    "        print()\n",
    "\n",
    "        if n == \"1\":\n",
    "            number = int(input('Введите число, иначе по умолчанию число равно 10: '))\n",
    "           \n",
    "            if number != 0:\n",
    "                return f'Периметр квадрата числа, {number} составляет: {square_perimeter(number)}'\n",
    "            else:\n",
    "                return f'Периметр квадрата числа {10} составляет: {square_perimeter()}'\n",
    "            print()\n",
    "\n",
    "        elif n == \"2\":\n",
    "            number = int(input('Введите число, иначе по умолчанию число равно 10: '))\n",
    "            \n",
    "            if number != 0:\n",
    "                return f'Площадь фигуры числа {number} составляет: {square_area(number)}'\n",
    "            else:\n",
    "                return f'Площадь фигуры числа {10} составляет: {square_area()}' \n",
    "            print()\n",
    "            \n",
    "        elif n == '3':\n",
    "            return ''\n",
    "        \n",
    "        else:\n",
    "            print('Такого варианта нет, попробуйти еще раз!')\n",
    "            print()\n",
    "            \n",
    "# s = func_square()\n",
    "# print(s)"
   ]
  },
  {
   "cell_type": "code",
   "execution_count": 25,
   "metadata": {},
   "outputs": [],
   "source": [
    "def func_triangle():\n",
    "\n",
    "    while True:\n",
    "        print(\"\"\"Варианты: \n",
    "                1 - вычисляет периметр треугольника\n",
    "                2 - вычисляет площадь фигуры\n",
    "                3 - выход в меню\"\"\")\n",
    "\n",
    "        n = input('Выберите один из вариантов 1, 2, 3: ')\n",
    "        print()\n",
    "\n",
    "        if n == \"1\": \n",
    "            number = input('Введите числа, иначе по умолчанию числа равны (10, 10, 10): ').split()\n",
    "            number = [int(i) for i in number] # выводит список элементов чисел \n",
    "            \n",
    "            if all([True if i != 0 else False for i in number]): # проверка списка: все ли числа не равны 0\n",
    "                return f'Периметр квадрата чисел {number[0], number[1], number[2]} составляет: {triangle_perimeter(*number)}'\n",
    "            else:\n",
    "                return f'Периметр квадрата чисел {10, 10, 10} составляет: {triangle_perimeter()}' # иначе значение по умолчанию\n",
    "            print()\n",
    "\n",
    "        elif n == \"2\":\n",
    "            number = input('Введите числа, иначе по умолчанию числа равны (10, 10, 10): ').split()\n",
    "            number = [int(i) for i in number] # выводит список элементов чисел \n",
    "            \n",
    "            if all([True if i != 0 else False for i in number]): # проверка списка: все ли числа не равны 0\n",
    "                return f'Площадь фигуры числа {number[0], number[1], number[2]} состовляет: {triangle_area(*number)}'\n",
    "            else:\n",
    "                return f'Площадь фигуры числа {10, 10, 10} составляет: {triangle_area()}' # иначе значение по умолчанию\n",
    "            print()\n",
    "            \n",
    "        elif n == '3':\n",
    "            return ''\n",
    "        \n",
    "        else:\n",
    "            print('Такого варианта нет, попробуйти еще раз!')\n",
    "            print()\n",
    "\n",
    "# print(func_triangle())"
   ]
  },
  {
   "cell_type": "code",
   "execution_count": 26,
   "metadata": {},
   "outputs": [
    {
     "name": "stdout",
     "output_type": "stream",
     "text": [
      "Варианты: \n",
      "            1 - посчитать длину и площадь круга\n",
      "            2 - посчитать периметр и площадь треугольника \n",
      "            3 - посчитать периметр и площадь квадрата \n",
      "            4 - Выход\n",
      "\n",
      "Выберите один из вариантов 1, 2, 3, 4: 1\n",
      "Варианты: \n",
      "            1 - вычисляет длину окружности\n",
      "            2 - вычисляет площадь окружности \n",
      "            3 - выход в меню\n",
      "Выберите один из вариантов 1, 2, 3: 2\n",
      "\n",
      "Введите число, иначе по умолчанию число равно 10: 45\n",
      "Площадь окружности числа 45 состовляет: 6361.725123519331\n",
      "\n",
      "Варианты: \n",
      "            1 - посчитать длину и площадь круга\n",
      "            2 - посчитать периметр и площадь треугольника \n",
      "            3 - посчитать периметр и площадь квадрата \n",
      "            4 - Выход\n",
      "\n",
      "Выберите один из вариантов 1, 2, 3, 4: 4\n",
      "До новых встреч!\n"
     ]
    }
   ],
   "source": [
    "while True:\n",
    "    print(\"\"\"Варианты: \n",
    "            1 - посчитать длину и площадь круга\n",
    "            2 - посчитать периметр и площадь треугольника \n",
    "            3 - посчитать периметр и площадь квадрата \n",
    "            4 - Выход\"\"\")\n",
    "    print()\n",
    "\n",
    "    choice = input('Выберите один из вариантов 1, 2, 3, 4: ')\n",
    "    \n",
    "    if choice == '1':\n",
    "        print(func_circle())\n",
    "    elif choice == '2':\n",
    "        print(func_triangle())\n",
    "    elif choice == '3':\n",
    "        print(func_square())\n",
    "    elif choice == '4':\n",
    "        print('До новых встреч!')\n",
    "        break\n",
    "    else:\n",
    "        print('Такого вариата нет, попробуйте еще раз!')\n",
    "    print()"
   ]
  },
  {
   "cell_type": "markdown",
   "metadata": {},
   "source": [
    "&nbsp;"
   ]
  },
  {
   "cell_type": "markdown",
   "metadata": {},
   "source": [
    "<a name=\"task2\"></a>"
   ]
  },
  {
   "cell_type": "markdown",
   "metadata": {},
   "source": [
    " ⇧ [Cодержание](#content)"
   ]
  },
  {
   "cell_type": "markdown",
   "metadata": {},
   "source": [
    "# Задача 2"
   ]
  },
  {
   "cell_type": "markdown",
   "metadata": {},
   "source": [
    "> Создайте свою библиотеку, в которой будет находится 3 под-библиотеки с решением задач 1, 2 и 3 из `05-04-home-task.ipynb`.  \n",
    "  \n",
    "> Начните писать библиотеку на GitHub. Когда она будет готова, примените команду `git clone` и разместите её на локальной машине.  \n",
    "  \n",
    "> Создайте по одному примеру вычисления, когда пользователь вводит с клавиатуры текстовые предложения для обработки. Сделайте подсказки для пользователя: условия задачи и что нужно ввести.  \n",
    "  "
   ]
  },
  {
   "cell_type": "code",
   "execution_count": null,
   "metadata": {},
   "outputs": [],
   "source": [
    "# Файловая структура проекта:\n",
    "\n",
    "\"\"\"\n",
    "\n",
    "libraryName\n",
    "  | \n",
    "  |_taskName1\n",
    "        |_ __init__.py\n",
    "        |_ code.py\n",
    "  | \n",
    "  |_taskName2\n",
    "        |_ __init__.py\n",
    "        |_ code.py\n",
    "  |\n",
    "  |_taskName3\n",
    "        |_ __init__.py\n",
    "        |_ code.py\n",
    "  |\n",
    "  |_ __init__.py\n",
    "\n",
    "\"\"\"\n",
    "\n",
    "# Сделано в файле 06-05-03-home-task "
   ]
  },
  {
   "cell_type": "markdown",
   "metadata": {},
   "source": [
    " ⇧ [Cодержание](#content)"
   ]
  }
 ],
 "metadata": {
  "colab": {
   "collapsed_sections": [],
   "name": "Подготовительный блок | Python. Введение | ДЗ Ultra Lite | УИИ",
   "provenance": []
  },
  "kernelspec": {
   "display_name": "Python 3 (ipykernel)",
   "language": "python",
   "name": "python3"
  },
  "language_info": {
   "codemirror_mode": {
    "name": "ipython",
    "version": 3
   },
   "file_extension": ".py",
   "mimetype": "text/x-python",
   "name": "python",
   "nbconvert_exporter": "python",
   "pygments_lexer": "ipython3",
   "version": "3.9.7"
  }
 },
 "nbformat": 4,
 "nbformat_minor": 1
}
